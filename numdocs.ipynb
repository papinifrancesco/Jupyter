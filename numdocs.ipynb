{
 "cells": [
  {
   "cell_type": "markdown",
   "metadata": {},
   "source": [
    "# Analyse de l'évolution des documents SOLR\n",
    "\n",
    "## Objectif du notebook\n",
    "Ce notebook analyse l'évolution temporelle du nombre de documents sur deux serveurs SOLR.\n",
    "\n",
    "### Contexte\n",
    "- Source des données : fichier TSV\n",
    "- Serveurs analysés : SOLR1 et SOLR2\n",
    "- Période : déterminée par les timestamps dans le fichier"
   ]
  },
  {
   "cell_type": "markdown",
   "metadata": {},
   "source": [
    "## Préparation de l'environnement\n",
    "\n",
    "Nous allons importer les bibliothèques nécessaires pour notre analyse :"
   ]
  },
  {
   "cell_type": "code",
   "execution_count": null,
   "metadata": {},
   "outputs": [],
   "source": [
    "# Importation des bibliothèques\n",
    "import pandas as pd\n",
    "import matplotlib.pyplot as plt\n",
    "\n",
    "# Vérification des versions des bibliothèques\n",
    "print(f\"Pandas version : {pd.__version__}\")\n",
    "print(f\"Matplotlib version : {plt.__version__}\")"
   ]
  },
  {
   "cell_type": "markdown",
   "metadata": {},
   "source": [
    "## Chargement et prétraitement des données"
   ]
  },
  {
   "cell_type": "code",
   "execution_count": null,
   "metadata": {},
   "outputs": [],
   "source": [
    "# Chemin du fichier de données\n",
    "file_path = 'numDocs.tsv'\n",
    "\n",
    "# Chargement des données\n",
    "data = pd.read_csv(file_path, sep='\\t')\n",
    "\n",
    "# Affichage des premières lignes\n",
    "print(data.head())\n",
    "\n",
    "# Conversion du timestamp\n",
    "data['TIMESTAMP'] = pd.to_datetime(data['TIMESTAMP'], unit='s')\n",
    "\n",
    "# Informations de base sur le jeu de données\n",
    "print(\"\\nInformations sur le jeu de données :\")\n",
    "print(data.info())"
   ]
  },
  {
   "cell_type": "markdown",
   "metadata": {},
   "source": [
    "## Visualisation des données"
   ]
  },
  {
   "cell_type": "code",
   "execution_count": null,
   "metadata": {},
   "outputs": [],
   "source": [
    "# Configuration du graphique\n",
    "plt.figure(figsize=(16, 9))\n",
    "\n",
    "# Tracé des courbes SOLR1 et SOLR2\n",
    "plt.plot(data['TIMESTAMP'], data['SOLR1'], label='SOLR1', color='blue')\n",
    "plt.plot(data['TIMESTAMP'], data['SOLR2'], label='SOLR2', color='orange')\n",
    "\n",
    "# Personnalisation du graphique\n",
    "plt.title('Évolution du nombre de documents SOLR1 et SOLR2', fontsize=14)\n",
    "plt.xlabel('Temps', fontsize=12)\n",
    "plt.ylabel('Nombre de documents', fontsize=12)\n",
    "plt.xticks(rotation=45)\n",
    "plt.grid(alpha=0.5)\n",
    "plt.legend()\n",
    "\n",
    "# Ajustement automatique de la mise en page\n",
    "plt.tight_layout()\n",
    "\n",
    "# Sauvegarde du graphique\n",
    "plt.savefig('solr_documents_evolution.png')\n",
    "\n",
    "# Affichage du graphique\n",
    "plt.show()"
   ]
  },
  {
   "cell_type": "markdown",
   "metadata": {},
   "source": [
    "## Analyse statistique comparative\n",
    "\n",
    "Calcul de quelques statistiques descriptives pour SOLR1 et SOLR2 :"
   ]
  },
  {
   "cell_type": "code",
   "execution_count": null,
   "metadata": {},
   "outputs": [],
   "source": [
    "# Statistiques descriptives\n",
    "print(\"Statistiques pour SOLR1 :\")\n",
    "print(data['SOLR1'].describe())\n",
    "\n",
    "print(\"\\nStatistiques pour SOLR2 :\")\n",
    "print(data['SOLR2'].describe())"
   ]
  },
  {
   "cell_type": "markdown",
   "metadata": {},
   "source": [
    "## Conclusions\n",
    "\n",
    "- Analyse réalisée sur les documents SOLR1 et SOLR2\n",
    "- Graphique généré et sauvegardé\n",
    "- Statistiques descriptives calculées"
   ]
  }
 ],
 "metadata": {
  "kernelspec": {
   "display_name": "Python 3",
   "language": "python",
   "name": "python3"
  },
  "language_info": {
   "name": "python",
   "version": "3.8.5"
  }
 },
 "nbformat": 4,
 "nbformat_minor": 4
}
