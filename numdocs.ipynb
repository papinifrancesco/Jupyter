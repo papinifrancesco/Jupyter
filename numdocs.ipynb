{
 "cells": [
  {
   "cell_type": "markdown",
   "metadata": {},
   "source": [
    "# Analyse de l'évolution des documents SOLR\n",
    "\n",
    "## Objectif du notebook\n",
    "Ce notebook analyse l'évolution temporelle du nombre de documents sur deux serveurs SOLR.\n",
    "\n",
    "### Contexte\n",
    "- Source des données : fichier TSV\n",
    "- Serveurs analysés : SOLR1 et SOLR2\n",
    "- Période : déterminée par les timestamps dans le fichier"
   ]
  },
  {
   "cell_type": "markdown",
   "metadata": {},
   "source": [
    "## Préparation de l'environnement\n",
    "\n",
    "Nous allons importer les bibliothèques nécessaires pour notre analyse :"
   ]
  },
  {
   "cell_type": "code",
   "execution_count": null,
   "metadata": {},
   "outputs": [],
   "source": [
    "import pandas as pd\n",
    "import plotly.express as px\n",
    "\n",
    "# File path\n",
    "file_path = 'numDocs.tsv'\n",
    "\n",
    "# Load the data\n",
    "data = pd.read_csv(file_path, sep='\\t')\n",
    "\n",
    "# Convert TIMESTAMP to datetime for better visualization\n",
    "data['TIMESTAMP'] = pd.to_datetime(data['TIMESTAMP'], unit='s')\n",
    "\n",
    "# Creating the interactive plot\n",
    "fig = px.line(data, x='TIMESTAMP', y=['SOLR1', 'SOLR2', 'SOLR3'], \n",
    "              labels={'value': 'numDocs', 'variable': 'SOLR'},\n",
    "              title='SOLR1, SOLR2, et SOLR3 dans le temps')\n",
    "\n",
    "# Show the plot\n",
    "fig.show()\n"
   ]
  },
  {
   "cell_type": "markdown",
   "metadata": {},
   "source": [
    "## Conclusions\n",
    "\n",
    "- Analyse réalisée sur les documents SOLR1 et SOLR2\n",
    "- Graphique généré et sauvegardé\n",
    "- Statistiques descriptives calculées"
   ]
  }
 ],
 "metadata": {
  "kernelspec": {
   "display_name": "Python 3",
   "language": "python",
   "name": "python3"
  },
  "language_info": {
   "name": "python",
   "version": "3.8.5"
  }
 },
 "nbformat": 4,
 "nbformat_minor": 4
}
